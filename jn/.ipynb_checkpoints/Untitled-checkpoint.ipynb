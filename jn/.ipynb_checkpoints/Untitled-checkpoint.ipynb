{
 "cells": [
  {
   "cell_type": "code",
   "execution_count": 109,
   "metadata": {},
   "outputs": [
    {
     "name": "stdout",
     "output_type": "stream",
     "text": [
      "<class 'pandas.core.frame.DataFrame'>\n",
      "<class 'pandas.core.frame.DataFrame'>\n",
      "<class 'pandas.core.frame.DataFrame'>\n",
      "<class 'pandas.core.frame.DataFrame'>\n",
      "<class 'pandas.core.frame.DataFrame'>\n",
      "<class 'pandas.core.frame.DataFrame'>\n",
      "<class 'pandas.core.frame.DataFrame'>\n",
      "<class 'pandas.core.frame.DataFrame'>\n",
      "<class 'pandas.core.frame.DataFrame'>\n",
      "<class 'pandas.core.frame.DataFrame'>\n",
      "<class 'pandas.core.frame.DataFrame'>\n",
      "<class 'pandas.core.frame.DataFrame'>\n"
     ]
    },
    {
     "data": {
      "text/plain": [
       "pandas.core.series.Series"
      ]
     },
     "execution_count": 109,
     "metadata": {},
     "output_type": "execute_result"
    }
   ],
   "source": [
    "import pandas as pd\n",
    "\n",
    "\n",
    "years = [str(idx + 2009) for idx in range(11)]\n",
    "leagues = ['central', 'pacific']\n",
    "central_team_spells = ['carp', 'swallows', 'giants', 'baystars', 'dragons', 'tigers']\n",
    "pacific_team_spells = ['lions', 'hawks', 'fighters', 'buffaloes', 'marines', 'eagles']\n",
    "team_spells = [central_team_spells, pacific_team_spells]\n",
    "\n",
    "players = []\n",
    "year = 2019\n",
    "for idx, league in enumerate(leagues):\n",
    "    for spell in team_spells[idx]:\n",
    "        hitter_df = pd.read_csv(f'../data/{league}/{spell}/{year}/hitter.csv')\n",
    "        pitcher_df = pd.read_csv(f'../data/{league}/{spell}/{year}/pitcher.csv')\n",
    "        print(pitcher_df.__class__)\n",
    "        for idx in range(pitcher_df.shape[0]):\n",
    "            players.append(pitcher_df.iloc[idx])\n",
    "\n",
    "            \n",
    "players[0].__class__"
   ]
  },
  {
   "cell_type": "code",
   "execution_count": null,
   "metadata": {},
   "outputs": [],
   "source": []
  }
 ],
 "metadata": {
  "kernelspec": {
   "display_name": "Python 3",
   "language": "python",
   "name": "python3"
  },
  "language_info": {
   "codemirror_mode": {
    "name": "ipython",
    "version": 3
   },
   "file_extension": ".py",
   "mimetype": "text/x-python",
   "name": "python",
   "nbconvert_exporter": "python",
   "pygments_lexer": "ipython3",
   "version": "3.7.5"
  }
 },
 "nbformat": 4,
 "nbformat_minor": 2
}
